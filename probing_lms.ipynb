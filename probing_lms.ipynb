{
 "cells": [
  {
   "cell_type": "markdown",
   "metadata": {},
   "source": [
    "__Probing Language Models__\n",
    "\n",
    "This notebook serves as a start for your NLP2 assignment on probing Language Models. This notebook will become part of the contents that you will submit at the end, so make sure to keep your code (somewhat) clean :-)\n",
    "\n",
    "__note__: This assignment is not dependent on big fancy GPUs. I run all this stuff on my own 3 year old CPU, without any Colab hassle. So it's up to you to decide how you want to run it."
   ]
  },
  {
   "cell_type": "markdown",
   "metadata": {},
   "source": [
    "# Models\n",
    "\n",
    "For the Transformer models you are advised to make use of the `transformers` library of Huggingface: https://github.com/huggingface/transformers\n",
    "Their library is well documented, and they provide great tools to easily load in pre-trained models."
   ]
  },
  {
   "cell_type": "code",
   "execution_count": 1,
   "metadata": {
    "scrolled": true
   },
   "outputs": [
    {
     "name": "stderr",
     "output_type": "stream",
     "text": [
      "/opt/homebrew/lib/python3.11/site-packages/tqdm/auto.py:21: TqdmWarning: IProgress not found. Please update jupyter and ipywidgets. See https://ipywidgets.readthedocs.io/en/stable/user_install.html\n",
      "  from .autonotebook import tqdm as notebook_tqdm\n",
      "/opt/homebrew/lib/python3.11/site-packages/transformers/generation_utils.py:24: FutureWarning: Importing `GenerationMixin` from `src/transformers/generation_utils.py` is deprecated and will be removed in Transformers v5. Import as `from transformers import GenerationMixin` instead.\n",
      "  warnings.warn(\n",
      "Xformers is not installed correctly. If you want to use memorry_efficient_attention to accelerate training use the following command to install Xformers\n",
      "pip install xformers.\n",
      "loading file vocab.json from cache at /Users/rachelvanthull/.cache/huggingface/hub/models--distilgpt2/snapshots/38cc92ec43315abd5136313225e95acc5986876c/vocab.json\n",
      "loading file merges.txt from cache at /Users/rachelvanthull/.cache/huggingface/hub/models--distilgpt2/snapshots/38cc92ec43315abd5136313225e95acc5986876c/merges.txt\n",
      "loading file added_tokens.json from cache at None\n",
      "loading file special_tokens_map.json from cache at None\n",
      "loading file tokenizer_config.json from cache at None\n",
      "loading configuration file config.json from cache at /Users/rachelvanthull/.cache/huggingface/hub/models--distilgpt2/snapshots/38cc92ec43315abd5136313225e95acc5986876c/config.json\n",
      "Model config GPT2Config {\n",
      "  \"_name_or_path\": \"distilgpt2\",\n",
      "  \"_num_labels\": 1,\n",
      "  \"activation_function\": \"gelu_new\",\n",
      "  \"architectures\": [\n",
      "    \"GPT2LMHeadModel\"\n",
      "  ],\n",
      "  \"attn_pdrop\": 0.1,\n",
      "  \"bos_token_id\": 50256,\n",
      "  \"embd_pdrop\": 0.1,\n",
      "  \"eos_token_id\": 50256,\n",
      "  \"id2label\": {\n",
      "    \"0\": \"LABEL_0\"\n",
      "  },\n",
      "  \"initializer_range\": 0.02,\n",
      "  \"label2id\": {\n",
      "    \"LABEL_0\": 0\n",
      "  },\n",
      "  \"layer_norm_epsilon\": 1e-05,\n",
      "  \"model_type\": \"gpt2\",\n",
      "  \"n_ctx\": 1024,\n",
      "  \"n_embd\": 768,\n",
      "  \"n_head\": 12,\n",
      "  \"n_inner\": null,\n",
      "  \"n_layer\": 6,\n",
      "  \"n_positions\": 1024,\n",
      "  \"reorder_and_upcast_attn\": false,\n",
      "  \"resid_pdrop\": 0.1,\n",
      "  \"scale_attn_by_inverse_layer_idx\": false,\n",
      "  \"scale_attn_weights\": true,\n",
      "  \"summary_activation\": null,\n",
      "  \"summary_first_dropout\": 0.1,\n",
      "  \"summary_proj_to_labels\": true,\n",
      "  \"summary_type\": \"cls_index\",\n",
      "  \"summary_use_proj\": true,\n",
      "  \"task_specific_params\": {\n",
      "    \"text-generation\": {\n",
      "      \"do_sample\": true,\n",
      "      \"max_length\": 50\n",
      "    }\n",
      "  },\n",
      "  \"transformers_version\": \"4.29.0\",\n",
      "  \"use_cache\": true,\n",
      "  \"vocab_size\": 50257\n",
      "}\n",
      "\n",
      "loading configuration file config.json from cache at /Users/rachelvanthull/.cache/huggingface/hub/models--distilgpt2/snapshots/38cc92ec43315abd5136313225e95acc5986876c/config.json\n",
      "Model config GPT2Config {\n",
      "  \"_num_labels\": 1,\n",
      "  \"activation_function\": \"gelu_new\",\n",
      "  \"architectures\": [\n",
      "    \"GPT2LMHeadModel\"\n",
      "  ],\n",
      "  \"attn_pdrop\": 0.1,\n",
      "  \"bos_token_id\": 50256,\n",
      "  \"embd_pdrop\": 0.1,\n",
      "  \"eos_token_id\": 50256,\n",
      "  \"id2label\": {\n",
      "    \"0\": \"LABEL_0\"\n",
      "  },\n",
      "  \"initializer_range\": 0.02,\n",
      "  \"label2id\": {\n",
      "    \"LABEL_0\": 0\n",
      "  },\n",
      "  \"layer_norm_epsilon\": 1e-05,\n",
      "  \"model_type\": \"gpt2\",\n",
      "  \"n_ctx\": 1024,\n",
      "  \"n_embd\": 768,\n",
      "  \"n_head\": 12,\n",
      "  \"n_inner\": null,\n",
      "  \"n_layer\": 6,\n",
      "  \"n_positions\": 1024,\n",
      "  \"reorder_and_upcast_attn\": false,\n",
      "  \"resid_pdrop\": 0.1,\n",
      "  \"scale_attn_by_inverse_layer_idx\": false,\n",
      "  \"scale_attn_weights\": true,\n",
      "  \"summary_activation\": null,\n",
      "  \"summary_first_dropout\": 0.1,\n",
      "  \"summary_proj_to_labels\": true,\n",
      "  \"summary_type\": \"cls_index\",\n",
      "  \"summary_use_proj\": true,\n",
      "  \"task_specific_params\": {\n",
      "    \"text-generation\": {\n",
      "      \"do_sample\": true,\n",
      "      \"max_length\": 50\n",
      "    }\n",
      "  },\n",
      "  \"transformers_version\": \"4.29.0\",\n",
      "  \"use_cache\": true,\n",
      "  \"vocab_size\": 50257\n",
      "}\n",
      "\n",
      "loading weights file pytorch_model.bin from cache at /Users/rachelvanthull/.cache/huggingface/hub/models--distilgpt2/snapshots/38cc92ec43315abd5136313225e95acc5986876c/pytorch_model.bin\n",
      "Generate config GenerationConfig {\n",
      "  \"_from_model_config\": true,\n",
      "  \"bos_token_id\": 50256,\n",
      "  \"eos_token_id\": 50256,\n",
      "  \"transformers_version\": \"4.29.0\"\n",
      "}\n",
      "\n",
      "All model checkpoint weights were used when initializing GPT2LMHeadModel.\n",
      "\n",
      "All the weights of GPT2LMHeadModel were initialized from the model checkpoint at distilgpt2.\n",
      "If your task is similar to the task the model of the checkpoint was trained on, you can already use GPT2LMHeadModel for predictions without further training.\n",
      "loading configuration file generation_config.json from cache at /Users/rachelvanthull/.cache/huggingface/hub/models--distilgpt2/snapshots/38cc92ec43315abd5136313225e95acc5986876c/generation_config.json\n",
      "Generate config GenerationConfig {\n",
      "  \"_from_model_config\": true,\n",
      "  \"bos_token_id\": 50256,\n",
      "  \"eos_token_id\": 50256,\n",
      "  \"transformers_version\": \"4.29.0\"\n",
      "}\n",
      "\n"
     ]
    }
   ],
   "source": [
    "#\n",
    "## Your code for initializing the transformer model(s)\n",
    "#\n",
    "# Note that transformer models use their own `tokenizer`, that should be loaded in as well.\n",
    "#\n",
    "from transformers import *\n",
    "import transformers\n",
    "\n",
    "tokenizer = GPT2Tokenizer.from_pretrained('distilgpt2')\n",
    "model = GPT2LMHeadModel.from_pretrained('distilgpt2')"
   ]
  },
  {
   "cell_type": "code",
   "execution_count": 2,
   "metadata": {},
   "outputs": [],
   "source": [
    "#\n",
    "## Your code for initializing the rnn model(s)\n",
    "#\n",
    "# The Gulordava LSTM model can be found here: \n",
    "# https://drive.google.com/file/d/19Lp3AM4NEPycp_IBgoHfLc_V456pmUom/view?usp=sharing\n",
    "# You can read more about this model in the original paper here: https://arxiv.org/pdf/1803.11138.pdf\n",
    "#\n",
    "# N.B: I have altered the RNNModel code to only output the hidden states that you are interested in.\n",
    "# If you want to do more experiments with this model you could have a look at the original code here:\n",
    "# https://github.com/facebookresearch/colorlessgreenRNNs/blob/master/src/language_models/model.py\n",
    "#\n",
    "from collections import defaultdict\n",
    "from lstm.model import RNNModel\n",
    "import torch\n",
    "\n",
    "\n",
    "model_location = 'state_dict.pt'  # <- point this to the location of the Gulordava .pt file\n",
    "lstm = RNNModel('LSTM', 50001, 650, 650, 2)\n",
    "lstm.load_state_dict(torch.load(model_location))\n",
    "\n",
    "\n",
    "# This LSTM does not use a Tokenizer like the Transformers, but a Vocab dictionary that maps a token to an id.\n",
    "with open('lstm/vocab.txt', encoding=\"utf8\") as f:\n",
    "    w2i = {w.strip(): i for i, w in enumerate(f)}\n",
    "\n",
    "vocab = defaultdict(lambda: w2i[\"<unk>\"])\n",
    "vocab.update(w2i)"
   ]
  },
  {
   "cell_type": "markdown",
   "metadata": {},
   "source": [
    "It is a good idea that before you move on, you try to feed some text to your LMs; and check if everything works accordingly. "
   ]
  },
  {
   "cell_type": "markdown",
   "metadata": {},
   "source": [
    "# Data\n",
    "\n",
    "For this assignment you will train your probes on __treebank__ corpora. A treebank is a corpus that has been *parsed*, and stored in a representation that allows the parse tree to be recovered. Next to a parse tree, treebanks also often contain information about part-of-speech tags, which is exactly what we are after now.\n",
    "\n",
    "The treebank you will use for now is part of the Universal Dependencies project. I provide a sample of this treebank as well, so you can test your setup on that before moving on to larger amounts of data.\n",
    "\n",
    "Make sure you accustom yourself to the format that is created by the `conllu` library that parses the treebank files before moving on. For example, make sure you understand how you can access the pos tag of a token, or how to cope with the tree structure that is formed using the `to_tree()` functionality."
   ]
  },
  {
   "cell_type": "code",
   "execution_count": 3,
   "metadata": {},
   "outputs": [],
   "source": [
    "# READ DATA\n",
    "from typing import List\n",
    "from conllu import parse_incr, TokenList\n",
    "\n",
    "\n",
    "# If stuff like `: str` and `-> ..` seems scary, fear not! \n",
    "# These are type hints that help you to understand what kind of argument and output is expected.\n",
    "def parse_corpus(filename: str) -> List[TokenList]:\n",
    "    data_file = open(filename, encoding=\"utf-8\")\n",
    "\n",
    "    ud_parses = list(parse_incr(data_file))\n",
    "    \n",
    "    return ud_parses\n",
    "\n",
    "\n",
    "ud_parses = parse_corpus('data/sample/en_ewt-ud-train.conllu')"
   ]
  },
  {
   "cell_type": "code",
   "execution_count": 4,
   "metadata": {},
   "outputs": [
    {
     "data": {
      "text/plain": [
       "TokenList<Al, -, Zaman, :, American, forces, killed, Shaikh, Abdullah, al, -, Ani, ,, the, preacher, at, the, mosque, in, the, town, of, Qaim, ,, near, the, Syrian, border, ., metadata={newdoc id: \"weblog-juancole.com_juancole_20051126063000_ENG_20051126_063000\", sent_id: \"weblog-juancole.com_juancole_20051126063000_ENG_20051126_063000-0001\", text: \"Al-Zaman : American forces killed Shaikh Abdullah al-Ani, the preacher at the mosque in the town of Qaim, near the Syrian border.\"}>"
      ]
     },
     "execution_count": 4,
     "metadata": {},
     "output_type": "execute_result"
    }
   ],
   "source": [
    "# Single sentence\n",
    "ud_parses[0]"
   ]
  },
  {
   "cell_type": "code",
   "execution_count": 5,
   "metadata": {},
   "outputs": [
    {
     "name": "stdout",
     "output_type": "stream",
     "text": [
      "{'SpaceAfter': 'No'}\n",
      "{'SpaceAfter': 'No'}\n",
      "None\n",
      "None\n",
      "None\n",
      "None\n",
      "None\n",
      "None\n",
      "None\n",
      "{'SpaceAfter': 'No'}\n",
      "{'SpaceAfter': 'No'}\n",
      "{'SpaceAfter': 'No'}\n",
      "None\n",
      "None\n",
      "None\n",
      "None\n",
      "None\n",
      "None\n",
      "None\n",
      "None\n",
      "None\n",
      "None\n",
      "{'SpaceAfter': 'No'}\n",
      "None\n",
      "None\n",
      "None\n",
      "None\n",
      "{'SpaceAfter': 'No'}\n",
      "None\n"
     ]
    }
   ],
   "source": [
    "for token in ud_parses[0]:\n",
    "    print(token['misc'])"
   ]
  },
  {
   "cell_type": "code",
   "execution_count": 6,
   "metadata": {},
   "outputs": [
    {
     "data": {
      "text/plain": [
       "{'id': 1,\n",
       " 'form': 'Al',\n",
       " 'lemma': 'Al',\n",
       " 'upos': 'PROPN',\n",
       " 'xpos': 'NNP',\n",
       " 'feats': {'Number': 'Sing'},\n",
       " 'head': 0,\n",
       " 'deprel': 'root',\n",
       " 'deps': [('root', 0)],\n",
       " 'misc': {'SpaceAfter': 'No'}}"
      ]
     },
     "execution_count": 6,
     "metadata": {},
     "output_type": "execute_result"
    }
   ],
   "source": [
    "# Single token\n",
    "ud_parses[0][0]"
   ]
  },
  {
   "cell_type": "code",
   "execution_count": 7,
   "metadata": {},
   "outputs": [
    {
     "data": {
      "text/plain": [
       "'NNP'"
      ]
     },
     "execution_count": 7,
     "metadata": {},
     "output_type": "execute_result"
    }
   ],
   "source": [
    "# Obtain pos tag of token\n",
    "ud_parses[0][0]['xpos']"
   ]
  },
  {
   "cell_type": "code",
   "execution_count": 8,
   "metadata": {},
   "outputs": [
    {
     "data": {
      "text/plain": [
       "TokenTree<token={id=1, form=Al}, children=[...]>"
      ]
     },
     "execution_count": 8,
     "metadata": {},
     "output_type": "execute_result"
    }
   ],
   "source": [
    "# Tree of sentence\n",
    "ud_parses[0].to_tree()"
   ]
  },
  {
   "cell_type": "code",
   "execution_count": 9,
   "metadata": {},
   "outputs": [
    {
     "name": "stdout",
     "output_type": "stream",
     "text": [
      "(deprel:root) form:Al lemma:Al upos:PROPN [1]\n",
      "    (deprel:punct) form:- lemma:- upos:PUNCT [2]\n",
      "    (deprel:flat) form:Zaman lemma:Zaman upos:PROPN [3]\n",
      "    (deprel:punct) form:: lemma:: upos:PUNCT [4]\n",
      "    (deprel:parataxis) form:killed lemma:kill upos:VERB [7]\n",
      "        (deprel:nsubj) form:forces lemma:force upos:NOUN [6]\n",
      "            (deprel:amod) form:American lemma:american upos:ADJ [5]\n",
      "        (deprel:obj) form:Shaikh lemma:Shaikh upos:PROPN [8]\n",
      "            (deprel:flat) form:Abdullah lemma:Abdullah upos:PROPN [9]\n",
      "            (deprel:flat) form:al lemma:al upos:PROPN [10]\n",
      "            (deprel:punct) form:- lemma:- upos:PUNCT [11]\n",
      "            (deprel:flat) form:Ani lemma:Ani upos:PROPN [12]\n",
      "            (deprel:punct) form:, lemma:, upos:PUNCT [13]\n",
      "            (deprel:appos) form:preacher lemma:preacher upos:NOUN [15]\n",
      "                (deprel:det) form:the lemma:the upos:DET [14]\n",
      "        (deprel:obl) form:mosque lemma:mosque upos:NOUN [18]\n",
      "            (deprel:case) form:at lemma:at upos:ADP [16]\n",
      "            (deprel:det) form:the lemma:the upos:DET [17]\n",
      "            (deprel:nmod) form:town lemma:town upos:NOUN [21]\n",
      "                (deprel:case) form:in lemma:in upos:ADP [19]\n",
      "                (deprel:det) form:the lemma:the upos:DET [20]\n",
      "                (deprel:nmod) form:Qaim lemma:Qaim upos:PROPN [23]\n",
      "                    (deprel:case) form:of lemma:of upos:ADP [22]\n",
      "                (deprel:punct) form:, lemma:, upos:PUNCT [24]\n",
      "                (deprel:nmod) form:border lemma:border upos:NOUN [28]\n",
      "                    (deprel:case) form:near lemma:near upos:ADP [25]\n",
      "                    (deprel:det) form:the lemma:the upos:DET [26]\n",
      "                    (deprel:amod) form:Syrian lemma:syrian upos:ADJ [27]\n",
      "    (deprel:punct) form:. lemma:. upos:PUNCT [29]\n"
     ]
    }
   ],
   "source": [
    "# Print tree of sentence\n",
    "ud_parses[0].to_tree().print_tree()"
   ]
  },
  {
   "cell_type": "markdown",
   "metadata": {},
   "source": [
    "# Generating Representations\n",
    "\n",
    "We now have our data all set, our models are running and we are good to go!\n",
    "\n",
    "The next step is now to create the model representations for the sentences in our corpora. Once we have generated these representations we can store them, and train additional diagnostic (/probing) classifiers on top of the representations.\n",
    "\n",
    "There are a few things you should keep in mind here. Read these carefully, as these tips will save you a lot of time in your implementation.\n",
    "1. Transformer models make use of Byte-Pair Encodings (BPE), that chunk up a piece of next in subword pieces. For example, a word such as \"largely\" could be chunked up into \"large\" and \"ly\". We are interested in probing linguistic information on the __word__-level. Therefore, we will follow the suggestion of Hewitt et al. (2019a, footnote 4), and create the representation of a word by averaging over the representations of its subwords. So the representation of \"largely\" becomes the average of that of \"large\" and \"ly\".\n",
    "\n",
    "\n",
    "2. Subword chunks never overlap multiple tokens. In other words, say we have a phrase like \"None of the\", then the tokenizer might chunk that into \"No\"+\"ne\"+\" of\"+\" the\", but __not__ into \"No\"+\"ne o\"+\"f the\", as those chunks overlap multiple tokens. This is great for our setup! Otherwise it would have been quite challenging to distribute the representation of a subword over the 2 tokens it belongs to.\n",
    "\n",
    "\n",
    "3. **Important**: If you closely examine the provided treebank, you will notice that some tokens are split up into multiple pieces, that each have their own POS-tag. For example, in the first sentence the word \"Al-Zaman\" is split into \"Al\", \"-\", and \"Zaman\". In such cases, the conllu `TokenList` format will add the following attribute: `('misc', OrderedDict([('SpaceAfter', 'No')]))` to these tokens. Your model's tokenizer does not need to adhere to the same tokenization. E.g., \"Al-Zaman\" could be split into \"Al-\"+\"Za\"+\"man\", making it hard to match the representations with their correct pos-tag. Therefore I recommend you to not tokenize your entire sentence at once, but to do this based on the chunking of the treebank. <br /><br />\n",
    "Make sure to still incoporate the spaces in a sentence though, as these are part of the BPE of the tokenizer. That is, the tokenizer uses a different token id for `\"man\"`, than it does for `\" man\"`: the former could be part of `\" woman\"`=`\" wo`\"+`\"man\"`, whereas the latter would be the used in case *man* occurs at the start of a word. The tokenizer for GPT-2 adds spaces at the start of a token (represented as a `Ġ` symbol). This means that you should keep track whether the previous token had the `SpaceAfter` attribute set to `'No'`: in case it did not, you should manually prepend a `\" \"` ahead of the token.\n",
    "\n",
    "\n",
    "4. The LSTM LM does not have the issues related to subwords, but is far more restricted in its vocabulary. Make sure you keep the above points in mind though, when creating the LSTM representations. You might want to write separate functions for the LSTM, but that is up to you.\n",
    "\n",
    "\n",
    "5. The huggingface transformer models don't return the hidden state by default. To achieve this you can pass `output_hidden_states=True` to a model forward pass. The hidden states are then returned for all intermediate layers as well, the latest entry in this list corresponds to the top layer.\n",
    "\n",
    "\n",
    "6. **N.B.**: Make sure that when you run a sentence through your model, you do so within a `with torch.no_grad():` block, and that you have run `model.eval()` beforehand as well (to disable dropout).\n",
    "\n",
    "\n",
    "7. **N.B.**: Make sure to use a token's ``[\"form\"]`` attribute, and not the ``[\"lemma\"]``, as the latter will stem any relevant morphological information from the token. We don't want this, because we want to feed well-formed, grammatical sentences to our model.\n",
    "\n",
    "\n",
    "I would like to stress that if you feel hindered in any way by the simple code structure that is presented here, you are free to modify it :-) Just make sure it is clear to an outsider what you're doing, some helpful comments never hurt."
   ]
  },
  {
   "cell_type": "code",
   "execution_count": 10,
   "metadata": {},
   "outputs": [],
   "source": [
    "# FETCH SENTENCE REPRESENTATIONS\n",
    "from torch import Tensor\n",
    "import pickle\n",
    "\n",
    "\n",
    "# Should return a tensor of shape (num_tokens_in_corpus, representation_size)\n",
    "# Make sure you correctly average the subword representations that belong to 1 token!\n",
    "\n",
    "def fetch_sen_reps(ud_parses: List[TokenList], model, tokenizer, concat=True) -> Tensor:\n",
    "    \n",
    "    model.eval()\n",
    "    # Initialize an empty list to store sentence representations\n",
    "    corpus_rep = []\n",
    "    \n",
    "    # Transformer model\n",
    "    if isinstance(tokenizer, transformers.PreTrainedTokenizer):\n",
    "        # Loop through the parses\n",
    "        for parse in ud_parses:\n",
    "            prev_token = None\n",
    "            encoded_full = []\n",
    "            encoded = []\n",
    "            tokens = []\n",
    "            # Loop through the tokens in the parse\n",
    "            for token in parse:\n",
    "                # Check if the previous token has a misc attribute and SpaceAfter key\n",
    "                if prev_token is None or ('misc' in prev_token and prev_token['misc'] is not None and 'SpaceAfter' in prev_token['misc'] and prev_token['misc']['SpaceAfter'] == 'No'):\n",
    "                    tokens.append(token['form'])\n",
    "                else:\n",
    "                    tokens.append(' ' + token['form'])\n",
    "                prev_token = token\n",
    "\n",
    "            # Encode each word using the tokenizer\n",
    "            for token in tokens:\n",
    "                with torch.no_grad():\n",
    "                    encoded_token = tokenizer.encode(token, add_special_tokens=False)\n",
    "                    encoded.extend(encoded_token)\n",
    "                    encoded_full.append(encoded_token)\n",
    "\n",
    "            # Convert the encoded subword to a tensor        \n",
    "            input_ids = torch.tensor(encoded).unsqueeze(0)\n",
    "            # Get the sentence representation from the model's output\n",
    "            with torch.no_grad():\n",
    "                outputs = model(input_ids, output_hidden_states=True)\n",
    "            last_layer_hidden_state = outputs.hidden_states[-1]\n",
    "            sen_rep = last_layer_hidden_state.squeeze()\n",
    "            # Fix for one token sentences\n",
    "            if len(parse) <= 1:\n",
    "                sen_rep = sen_rep.unsqueeze(0)\n",
    "            # Average the representations of subwords\n",
    "            sen_rep_avg = []\n",
    "            i = 0\n",
    "            for word in encoded_full:\n",
    "                j = len(word)\n",
    "                sen_rep_avg.append(torch.mean(sen_rep[i:i+j], dim=0, keepdim=True))\n",
    "                i += j\n",
    "            tensor = torch.stack(sen_rep_avg, dim=0).squeeze(1)\n",
    "            if tensor.shape[0] == 1:\n",
    "                tensor = tensor.view(1, -1, tensor.shape[-1])[:, 0, :]      \n",
    "            corpus_rep.append(tensor)\n",
    "        \n",
    "    # LSTM model\n",
    "    else:\n",
    "        for parse in ud_parses:\n",
    "            encoded = [tokenizer.get(token['form'].replace(' ', ''), tokenizer['<unk>']) for token in parse]\n",
    "            input_ids = torch.tensor(encoded).unsqueeze(0)\n",
    "            hidden = model.init_hidden(1)\n",
    "            with torch.no_grad():\n",
    "                tensor = lstm(input_ids, hidden).squeeze()\n",
    "            if len(tensor.shape) == 1:\n",
    "                tensor = tensor.unsqueeze(0)\n",
    "            corpus_rep.append(tensor)\n",
    "    if concat:\n",
    "        corpus_rep = torch.cat(corpus_rep, dim=0)\n",
    "    \n",
    "    return corpus_rep\n"
   ]
  },
  {
   "cell_type": "markdown",
   "metadata": {},
   "source": [
    "To validate your activation extraction procedure I have set up the following assertion function as a sanity check. It compares your representation of the first sentence in the corpus against a pickled version of mine. \n",
    "\n",
    "For this I used `distilgpt2`."
   ]
  },
  {
   "cell_type": "code",
   "execution_count": 11,
   "metadata": {},
   "outputs": [],
   "source": [
    "def error_msg(model_name, gold_embs, embs, i2w):\n",
    "    with open(f'{model_name}_tokens1.pickle', 'rb') as f:\n",
    "        sen_tokens = pickle.load(f)\n",
    "        \n",
    "    diff = torch.abs(embs - gold_embs)\n",
    "    max_diff = torch.max(diff)\n",
    "    avg_diff = torch.mean(diff)\n",
    "    \n",
    "    print(f\"{model_name} embeddings don't match!\")\n",
    "    print(f\"Max diff.: {max_diff:.4f}\\nMean diff. {avg_diff:.4f}\")\n",
    "\n",
    "    print(\"\\nCheck if your tokenization matches with the original tokenization:\")\n",
    "    for idx in sen_tokens.squeeze():\n",
    "        if isinstance(i2w, list):\n",
    "            token = i2w[idx]\n",
    "        else:\n",
    "            token = i2w.convert_ids_to_tokens(idx.item())\n",
    "        print(f\"{idx:<6} {token}\")\n",
    "\n",
    "\n",
    "def assert_sen_reps(model, tokenizer, lstm, vocab):\n",
    "    with open('distilgpt2_emb1.pickle', 'rb') as f:\n",
    "        distilgpt2_emb1 = pickle.load(f)\n",
    "        \n",
    "    with open('lstm_emb1.pickle', 'rb') as f:\n",
    "        lstm_emb1 = pickle.load(f)\n",
    "    \n",
    "    corpus = parse_corpus('data/sample/en_ewt-ud-train.conllu')[:1]\n",
    "    \n",
    "    own_distilgpt2_emb1 = fetch_sen_reps(corpus, model, tokenizer)\n",
    "    own_lstm_emb1 = fetch_sen_reps(corpus, lstm, vocab)\n",
    "    \n",
    "    assert distilgpt2_emb1.shape == own_distilgpt2_emb1.shape, \\\n",
    "        f\"Distilgpt2 shape mismatch: {distilgpt2_emb1.shape} (gold) vs. {own_distilgpt2_emb1.shape} (yours)\"\n",
    "    assert lstm_emb1.shape == own_lstm_emb1.shape, \\\n",
    "        f\"LSTM shape mismatch: {lstm_emb1.shape} (gold) vs. {own_lstm_emb1.shape} (yours)\"\n",
    "\n",
    "    if not torch.allclose(distilgpt2_emb1, own_distilgpt2_emb1, rtol=1e-3, atol=1e-3):\n",
    "        error_msg(\"distilgpt2\", distilgpt2_emb1, own_distilgpt2_emb1, tokenizer)\n",
    "    if not torch.allclose(lstm_emb1, own_lstm_emb1, rtol=1e-3, atol=1e-3):\n",
    "        error_msg(\"lstm\", lstm_emb1, own_lstm_emb1, list(vocab.keys()))\n",
    "\n",
    "\n",
    "assert_sen_reps(model, tokenizer, lstm, vocab)"
   ]
  },
  {
   "cell_type": "markdown",
   "metadata": {},
   "source": [
    "Next, we should define a function that extracts the corresponding POS labels for each activation, which we do based on the **``\"upostag\"``** attribute of a token (so not the ``xpostag`` attribute). These labels will be transformed to a tensor containing the label index for each item."
   ]
  },
  {
   "cell_type": "code",
   "execution_count": 12,
   "metadata": {},
   "outputs": [
    {
     "data": {
      "text/plain": [
       "(tensor([0, 1, 0,  ..., 3, 0, 4]),\n",
       " {'PROPN': 0,\n",
       "  'PUNCT': 1,\n",
       "  'ADJ': 2,\n",
       "  'NOUN': 3,\n",
       "  'VERB': 4,\n",
       "  'DET': 5,\n",
       "  'ADP': 6,\n",
       "  'AUX': 7,\n",
       "  'PRON': 8,\n",
       "  'PART': 9,\n",
       "  'SCONJ': 10,\n",
       "  'NUM': 11,\n",
       "  'ADV': 12,\n",
       "  'CCONJ': 13})"
      ]
     },
     "execution_count": 12,
     "metadata": {},
     "output_type": "execute_result"
    }
   ],
   "source": [
    "# FETCH POS LABELS\n",
    "from typing import Optional, Dict, Tuple\n",
    "\n",
    "# Should return a tensor of shape (num_tokens_in_corpus,)\n",
    "# Make sure that when fetching these pos tags for your train/dev/test corpora you share the label vocabulary.\n",
    "def fetch_pos_tags(ud_parses: List[TokenList], pos_vocab: Optional[Dict[str, int]] = None) -> Tuple[Tensor, Dict[str, int]]:\n",
    "    \n",
    "    # Create label dictionary if not passed to function\n",
    "    if pos_vocab is None:\n",
    "        pos_vocab = {}\n",
    "        pos_counter = 0\n",
    "    else:\n",
    "        pos_counter = len(pos_vocab.values())\n",
    "\n",
    "    # Keep a list of all POS tag labels\n",
    "    all_tags = []\n",
    "\n",
    "    for parse in ud_parses:\n",
    "        for token in parse:\n",
    "            # Extract the POS tag for the given token\n",
    "            pos_tag = token['upostag']\n",
    "            \n",
    "            # If the token is not yet in the vocabulary, add it\n",
    "            if pos_tag not in pos_vocab.keys():\n",
    "                pos_vocab[pos_tag] = pos_counter\n",
    "                pos_counter += 1\n",
    "            \n",
    "            # Add the label encoding of the POS tag\n",
    "            all_tags.append(pos_vocab[pos_tag])\n",
    "\n",
    "    return torch.tensor(all_tags), pos_vocab\n",
    "\n",
    "\n",
    "fetch_pos_tags(ud_parses)"
   ]
  },
  {
   "cell_type": "markdown",
   "metadata": {},
   "source": [
    "Finally, we can combine all these methods to retrieve the representations (`fetch_sen_reps`) and the corresponding labels (`fetch_pos_tags`). If you are still debugging and testing your setup you can set the `use_sample` variable to `True`, and once everything works you can extract the full corpus by setting it to `False`.\n",
    "\n",
    "The reason we pass the `train_vocab` to the data creation of the `dev` and `test` data is that we want to use the same label vocabulary across the different train/dev/test splits."
   ]
  },
  {
   "cell_type": "code",
   "execution_count": 13,
   "metadata": {},
   "outputs": [],
   "source": [
    "import os\n",
    "\n",
    "# Function that combines the previous functions, and creates 2 tensors for a .conllu file: \n",
    "# 1 containing the token representations, and 1 containing the (tokenized) pos_tags.\n",
    "\n",
    "def create_data(ud_parses, filename: str, lm, w2i, pos_vocab=None):\n",
    "    ud_parses = parse_corpus(filename)\n",
    "    \n",
    "    sen_reps = fetch_sen_reps(ud_parses, lm, w2i)\n",
    "    pos_tags, pos_vocab = fetch_pos_tags(ud_parses, pos_vocab=pos_vocab)\n",
    "    \n",
    "    return sen_reps, pos_tags, pos_vocab"
   ]
  },
  {
   "cell_type": "markdown",
   "metadata": {},
   "source": [
    "## Get data: Sample data, useful for testing"
   ]
  },
  {
   "cell_type": "code",
   "execution_count": 14,
   "metadata": {},
   "outputs": [],
   "source": [
    "# lm = model  # or `lstm`\n",
    "# w2i = tokenizer  # or `vocab`\n",
    "# use_sample = True\n",
    "\n",
    "# train_x, train_y, train_vocab = create_data(\n",
    "#     ud_parses,\n",
    "#     os.path.join('data', 'sample' if use_sample else '', 'en_ewt-ud-train.conllu'),\n",
    "#     lm, \n",
    "#     w2i\n",
    "# )\n",
    "\n",
    "# dev_x, dev_y, _ = create_data(\n",
    "#     ud_parses,\n",
    "#     os.path.join('data', 'sample' if use_sample else '', 'en_ewt-ud-dev.conllu'),\n",
    "#     lm, \n",
    "#     w2i,\n",
    "#     pos_vocab=train_vocab\n",
    "# )\n",
    "\n",
    "# test_x, test_y, _ = create_data(\n",
    "#     ud_parses,\n",
    "#     os.path.join('data', 'sample' if use_sample else '', 'en_ewt-ud-test.conllu'),\n",
    "#     lm,\n",
    "#     w2i,\n",
    "#     pos_vocab=train_vocab\n",
    "# )"
   ]
  },
  {
   "cell_type": "markdown",
   "metadata": {},
   "source": [
    "## Get data: Whole dataset"
   ]
  },
  {
   "cell_type": "markdown",
   "metadata": {},
   "source": [
    "### Generate"
   ]
  },
  {
   "cell_type": "code",
   "execution_count": 15,
   "metadata": {},
   "outputs": [],
   "source": [
    "# lm = lstm  # or `lstm`\n",
    "# w2i = vocab  # or `vocab`\n",
    "# use_sample = False\n",
    "\n",
    "# train_x, train_y, train_vocab = create_data(\n",
    "#     ud_parses,\n",
    "#     os.path.join('data', 'sample' if use_sample else '', 'en_ewt-ud-train.conllu'),\n",
    "#     lm, \n",
    "#     w2i\n",
    "# )\n",
    "\n",
    "# dev_x, dev_y, _ = create_data(\n",
    "#     ud_parses,\n",
    "#     os.path.join('data', 'sample' if use_sample else '', 'en_ewt-ud-dev.conllu'),\n",
    "#     lm, \n",
    "#     w2i,\n",
    "#     pos_vocab=train_vocab\n",
    "# )\n",
    "\n",
    "# test_x, test_y, _ = create_data(\n",
    "#     ud_parses,\n",
    "#     os.path.join('data', 'sample' if use_sample else '', 'en_ewt-ud-test.conllu'),\n",
    "#     lm,\n",
    "#     w2i,\n",
    "#     pos_vocab=train_vocab\n",
    "# )"
   ]
  },
  {
   "cell_type": "markdown",
   "metadata": {},
   "source": [
    "### Pickle dump"
   ]
  },
  {
   "cell_type": "code",
   "execution_count": 17,
   "metadata": {},
   "outputs": [],
   "source": [
    "# with open('train_x.pickle', 'wb') as handle:\n",
    "#     pickle.dump(train_x, handle, protocol=pickle.HIGHEST_PROTOCOL)\n",
    "# with open('train_y.pickle', 'wb') as handle:\n",
    "#     pickle.dump(train_y, handle, protocol=pickle.HIGHEST_PROTOCOL)\n",
    "# with open('train_vocab.pickle', 'wb') as handle:\n",
    "#     pickle.dump(train_vocab, handle, protocol=pickle.HIGHEST_PROTOCOL)\n",
    "    \n",
    "# with open('dev_x.pickle', 'wb') as handle:\n",
    "#     pickle.dump(dev_x, handle, protocol=pickle.HIGHEST_PROTOCOL)\n",
    "# with open('dev_y.pickle', 'wb') as handle:\n",
    "#     pickle.dump(dev_y, handle, protocol=pickle.HIGHEST_PROTOCOL)\n",
    "\n",
    "# with open('test_x.pickle', 'wb') as handle:\n",
    "#     pickle.dump(test_x, handle, protocol=pickle.HIGHEST_PROTOCOL)\n",
    "# with open('test_y.pickle', 'wb') as handle:\n",
    "#     pickle.dump(test_y, handle, protocol=pickle.HIGHEST_PROTOCOL)"
   ]
  },
  {
   "cell_type": "code",
   "execution_count": 75,
   "metadata": {},
   "outputs": [],
   "source": [
    "# train_x_big = torch.cat((train_x, dev_x), dim=0)\n",
    "# train_y_big = torch.cat((train_y, dev_y), dim=0)"
   ]
  },
  {
   "cell_type": "code",
   "execution_count": 76,
   "metadata": {},
   "outputs": [],
   "source": [
    "# with open('train_x_big.pickle', 'wb') as handle:\n",
    "#     pickle.dump(train_x_big, handle, protocol=pickle.HIGHEST_PROTOCOL)\n",
    "# with open('train_y_big.pickle', 'wb') as handle:\n",
    "#     pickle.dump(train_y_big, handle, protocol=pickle.HIGHEST_PROTOCOL)"
   ]
  },
  {
   "cell_type": "markdown",
   "metadata": {},
   "source": [
    "### Pickle load"
   ]
  },
  {
   "cell_type": "code",
   "execution_count": 71,
   "metadata": {},
   "outputs": [],
   "source": [
    "# GPT or lstm\n",
    "model_name = \"GPT\"\n",
    "\n",
    "# Load data from pickle\n",
    "with open('pickles/' + model_name + '/train_x.pickle', 'rb') as handle:\n",
    "    GPT_train_x = pickle.load(handle)\n",
    "with open('pickles/' + model_name + '/train_y.pickle', 'rb') as handle:\n",
    "    GPT_train_y = pickle.load(handle)\n",
    "with open('pickles/' + model_name + '/train_vocab.pickle', 'rb') as handle:\n",
    "    GPT_train_vocab = pickle.load(handle)\n",
    "\n",
    "with open('pickles/' + model_name + '/dev_x.pickle', 'rb') as handle:\n",
    "    GPT_dev_x = pickle.load(handle)\n",
    "with open('pickles/' + model_name + '/dev_y.pickle', 'rb') as handle:\n",
    "    GPT_dev_y = pickle.load(handle)\n",
    "\n",
    "with open('pickles/' + model_name + '/test_x.pickle', 'rb') as handle:\n",
    "    GPT_test_x = pickle.load(handle)\n",
    "with open('pickles/' + model_name + '/test_y.pickle', 'rb') as handle:\n",
    "    GPT_test_y = pickle.load(handle)\n",
    "\n",
    "# Big train set that is dev set and train set combined, as skorch does train/dev split itself\n",
    "with open('pickles/' + model_name + '/train_x_big.pickle', 'rb') as handle:\n",
    "    GPT_train_x_big = pickle.load(handle)\n",
    "with open('pickles/' + model_name + '/train_y_big.pickle', 'rb') as handle:\n",
    "    GPT_train_y_big = pickle.load(handle)"
   ]
  },
  {
   "cell_type": "code",
   "execution_count": 72,
   "metadata": {},
   "outputs": [],
   "source": [
    "# GPT or lstm\n",
    "model_name = \"lstm\"\n",
    "\n",
    "# Load data from pickle\n",
    "with open('pickles/' + model_name + '/train_x.pickle', 'rb') as handle:\n",
    "    lstm_train_x = pickle.load(handle)\n",
    "with open('pickles/' + model_name + '/train_y.pickle', 'rb') as handle:\n",
    "    lstm_train_y = pickle.load(handle)\n",
    "with open('pickles/' + model_name + '/train_vocab.pickle', 'rb') as handle:\n",
    "    lstm_train_vocab = pickle.load(handle)\n",
    "\n",
    "with open('pickles/' + model_name + '/dev_x.pickle', 'rb') as handle:\n",
    "    lstm_dev_x = pickle.load(handle)\n",
    "with open('pickles/' + model_name + '/dev_y.pickle', 'rb') as handle:\n",
    "    lstm_dev_y = pickle.load(handle)\n",
    "\n",
    "with open('pickles/' + model_name + '/test_x.pickle', 'rb') as handle:\n",
    "    lstm_test_x = pickle.load(handle)\n",
    "with open('pickles/' + model_name + '/test_y.pickle', 'rb') as handle:\n",
    "    lstm_test_y = pickle.load(handle)\n",
    "\n",
    "# Big train set that is dev set and train set combined, as skorch does train/dev split itself\n",
    "with open('pickles/' + model_name + '/train_x_big.pickle', 'rb') as handle:\n",
    "    lstm_train_x_big = pickle.load(handle)\n",
    "with open('pickles/' + model_name + '/train_y_big.pickle', 'rb') as handle:\n",
    "    lstm_train_y_big = pickle.load(handle)"
   ]
  },
  {
   "cell_type": "markdown",
   "metadata": {},
   "source": [
    "# Diagnostic Classification\n",
    "\n",
    "We now have our models, our data, _and_ our representations all set! Hurray, well done. We can finally move onto the cool stuff, i.e. training the diagnostic classifiers (DCs).\n",
    "\n",
    "DCs are simple in their complexity on purpose. To read more about why this is the case you could already have a look at the \"Designing and Interpreting Probes with Control Tasks\" by Hewitt and Liang (esp. Sec. 3.2).\n",
    "\n",
    "A simple linear classifier will suffice for now, don't bother with adding fancy non-linearities to it.\n",
    "\n",
    "I am personally a fan of the `skorch` library, that provides `sklearn`-like functionalities for training `torch` models, but you are free to train your dc using whatever method you prefer.\n",
    "\n",
    "As this is an Artificial Intelligence master and you have all done ML1 + DL, I expect you to use your train/dev/test splits correctly ;-)"
   ]
  },
  {
   "cell_type": "markdown",
   "metadata": {},
   "source": [
    "### Simple classifier using sklearn\n",
    "> If you set train_x etc. to the sample data you can test this out yourself. I merge train_x and dev_x because sklearn makes a train/dev split itself using k-fold."
   ]
  },
  {
   "cell_type": "code",
   "execution_count": 73,
   "metadata": {},
   "outputs": [],
   "source": [
    "from sklearn.linear_model import LogisticRegression\n",
    "from sklearn.metrics import accuracy_score\n",
    "\n",
    "# Initialize the Logistic Regression model\n",
    "model = LogisticRegression()"
   ]
  },
  {
   "cell_type": "code",
   "execution_count": 74,
   "metadata": {},
   "outputs": [
    {
     "name": "stderr",
     "output_type": "stream",
     "text": [
      "/opt/homebrew/lib/python3.11/site-packages/sklearn/linear_model/_logistic.py:458: ConvergenceWarning: lbfgs failed to converge (status=1):\n",
      "STOP: TOTAL NO. of ITERATIONS REACHED LIMIT.\n",
      "\n",
      "Increase the number of iterations (max_iter) or scale the data as shown in:\n",
      "    https://scikit-learn.org/stable/modules/preprocessing.html\n",
      "Please also refer to the documentation for alternative solver options:\n",
      "    https://scikit-learn.org/stable/modules/linear_model.html#logistic-regression\n",
      "  n_iter_i = _check_optimize_result(\n"
     ]
    },
    {
     "name": "stdout",
     "output_type": "stream",
     "text": [
      "Training accuracy: 0.7774372510203583\n",
      "Dev accuracy: 0.7672180690313345\n",
      "Test accuracy: 0.7653012432260121\n"
     ]
    }
   ],
   "source": [
    "# GPT\n",
    "# Training phase\n",
    "model.fit(GPT_train_x, GPT_train_y)\n",
    "\n",
    "# Predict using the trained model\n",
    "GPT_train_predictions = model.predict(GPT_train_x)\n",
    "GPT_dev_predictions = model.predict(GPT_dev_x)\n",
    "GPT_test_predictions = model.predict(GPT_test_x)\n",
    "\n",
    "# Calculate accuracy scores\n",
    "GPT_train_accuracy = accuracy_score(GPT_train_y, GPT_train_predictions)\n",
    "GPT_dev_accuracy = accuracy_score(GPT_dev_y, GPT_dev_predictions)\n",
    "GPT_test_accuracy = accuracy_score(GPT_test_y, GPT_test_predictions)\n",
    "\n",
    "print(\"Training accuracy:\", GPT_train_accuracy)\n",
    "print(\"Dev accuracy:\", GPT_dev_accuracy)\n",
    "print(\"Test accuracy:\", GPT_test_accuracy)"
   ]
  },
  {
   "cell_type": "code",
   "execution_count": 75,
   "metadata": {},
   "outputs": [
    {
     "name": "stderr",
     "output_type": "stream",
     "text": [
      "/opt/homebrew/lib/python3.11/site-packages/sklearn/linear_model/_logistic.py:458: ConvergenceWarning: lbfgs failed to converge (status=1):\n",
      "STOP: TOTAL NO. of ITERATIONS REACHED LIMIT.\n",
      "\n",
      "Increase the number of iterations (max_iter) or scale the data as shown in:\n",
      "    https://scikit-learn.org/stable/modules/preprocessing.html\n",
      "Please also refer to the documentation for alternative solver options:\n",
      "    https://scikit-learn.org/stable/modules/linear_model.html#logistic-regression\n",
      "  n_iter_i = _check_optimize_result(\n"
     ]
    },
    {
     "name": "stdout",
     "output_type": "stream",
     "text": [
      "Training accuracy: 0.9147982501160886\n",
      "Dev accuracy: 0.8889772546524575\n",
      "Test accuracy: 0.8890261396238445\n"
     ]
    }
   ],
   "source": [
    "# LSTM\n",
    "# Training phase\n",
    "model.fit(lstm_train_x, lstm_train_y)\n",
    "\n",
    "# Predict using the trained model\n",
    "lstm_train_predictions = model.predict(lstm_train_x)\n",
    "lstm_dev_predictions = model.predict(lstm_dev_x)\n",
    "lstm_test_predictions = model.predict(lstm_test_x)\n",
    "\n",
    "# Calculate accuracy scores\n",
    "lstm_train_accuracy = accuracy_score(lstm_train_y, lstm_train_predictions)\n",
    "lstm_dev_accuracy = accuracy_score(lstm_dev_y, lstm_dev_predictions)\n",
    "lstm_test_accuracy = accuracy_score(lstm_test_y, lstm_test_predictions)\n",
    "\n",
    "print(\"Training accuracy:\", lstm_train_accuracy)\n",
    "print(\"Dev accuracy:\", lstm_dev_accuracy)\n",
    "print(\"Test accuracy:\", lstm_test_accuracy)"
   ]
  },
  {
   "cell_type": "markdown",
   "metadata": {},
   "source": [
    "# Trees\n",
    "\n",
    "For our gold labels, we need to recover the node distances from our parse tree. For this we will use the functionality provided by `ete3`, that allows us to compute that directly. I have provided code that transforms a `TokenTree` to a `Tree` in `ete3` format."
   ]
  },
  {
   "cell_type": "code",
   "execution_count": 28,
   "metadata": {},
   "outputs": [],
   "source": [
    "# In case you want to transform your conllu tree to an nltk.Tree, for better visualisation\n",
    "\n",
    "def rec_tokentree_to_nltk(tokentree):\n",
    "    token = tokentree.token[\"form\"]\n",
    "    tree_str = f\"({token} {' '.join(rec_tokentree_to_nltk(t) for t in tokentree.children)})\"\n",
    "\n",
    "    return tree_str\n",
    "\n",
    "\n",
    "def tokentree_to_nltk(tokentree):\n",
    "    from nltk import Tree as NLTKTree\n",
    "\n",
    "    tree_str = rec_tokentree_to_nltk(tokentree)\n",
    "\n",
    "    return NLTKTree.fromstring(tree_str)"
   ]
  },
  {
   "cell_type": "code",
   "execution_count": 29,
   "metadata": {},
   "outputs": [],
   "source": [
    "# !pip install ete3\n",
    "from ete3 import Tree as EteTree\n",
    "\n",
    "\n",
    "class FancyTree(EteTree):\n",
    "    def __init__(self, *args, **kwargs):\n",
    "        super().__init__(*args, format=1, **kwargs)\n",
    "        \n",
    "    def __str__(self):\n",
    "        return self.get_ascii(show_internal=True)\n",
    "    \n",
    "    def __repr__(self):\n",
    "        return str(self)\n",
    "\n",
    "\n",
    "def rec_tokentree_to_ete(tokentree):\n",
    "    idx = str(tokentree.token[\"id\"])\n",
    "    children = tokentree.children\n",
    "    if children:\n",
    "        return f\"({','.join(rec_tokentree_to_ete(t) for t in children)}){idx}\"\n",
    "    else:\n",
    "        return idx\n",
    "    \n",
    "def tokentree_to_ete(tokentree):\n",
    "    newick_str = rec_tokentree_to_ete(tokentree)\n",
    "\n",
    "    return FancyTree(f\"{newick_str};\")"
   ]
  },
  {
   "cell_type": "code",
   "execution_count": 30,
   "metadata": {},
   "outputs": [
    {
     "name": "stdout",
     "output_type": "stream",
     "text": [
      "\n",
      "   /-2\n",
      "  |\n",
      "  |--3\n",
      "  |\n",
      "  |--4\n",
      "  |\n",
      "  |   /6 /-5\n",
      "  |  |\n",
      "  |  |   /-9\n",
      "  |  |  |\n",
      "  |  |  |--10\n",
      "  |  |  |\n",
      "  |  |  |--11\n",
      "  |  |-8|\n",
      "  |  |  |--12\n",
      "  |-7|  |\n",
      "  |  |  |--13\n",
      "  |  |  |\n",
      "  |  |   \\15/-14\n",
      "-1|  |\n",
      "  |  |   /-16\n",
      "  |  |  |\n",
      "  |  |  |--17\n",
      "  |  |  |\n",
      "  |   \\18   /-19\n",
      "  |     |  |\n",
      "  |     |  |--20\n",
      "  |     |  |\n",
      "  |     |  |-23/-22\n",
      "  |      \\21\n",
      "  |        |--24\n",
      "  |        |\n",
      "  |        |   /-25\n",
      "  |        |  |\n",
      "  |         \\28--26\n",
      "  |           |\n",
      "  |            \\-27\n",
      "  |\n",
      "   \\-29\n"
     ]
    }
   ],
   "source": [
    "# Let's check if it works!\n",
    "# We can read in a corpus using the code that was already provided, and convert it to an ete3 Tree.\n",
    "\n",
    "def parse_corpus(filename):\n",
    "    from conllu import parse_incr\n",
    "\n",
    "    data_file = open(filename, encoding=\"utf-8\")\n",
    "\n",
    "    ud_parses = list(parse_incr(data_file))\n",
    "    \n",
    "    return ud_parses\n",
    "\n",
    "corpus = parse_corpus('data/sample/en_ewt-ud-train.conllu')\n",
    "item = corpus[0]\n",
    "tokentree = item.to_tree()\n",
    "ete3_tree = tokentree_to_ete(tokentree)\n",
    "print(ete3_tree)"
   ]
  },
  {
   "cell_type": "markdown",
   "metadata": {},
   "source": [
    "As you can see we label a token by its token id (converted to a string). Based on these id's we are going to retrieve the node distances.\n",
    "\n",
    "To create the true distances of a parse tree in our treebank, we are going to use the `.get_distance` method that is provided by `ete3`: http://etetoolkit.org/docs/latest/tutorial/tutorial_trees.html#working-with-branch-distances\n",
    "\n",
    "We will store all these distances in a `torch.Tensor`.\n",
    "\n",
    "Please fill in the gap in the following method. I recommend you to have a good look at Hewitt's blog post  about these node distances."
   ]
  },
  {
   "cell_type": "code",
   "execution_count": 31,
   "metadata": {},
   "outputs": [],
   "source": [
    "def create_gold_distances(corpus):\n",
    "    all_distances = []\n",
    "\n",
    "    for item in corpus:\n",
    "        tokentree = item.to_tree()\n",
    "        ete_tree = tokentree_to_ete(tokentree)\n",
    "\n",
    "        sen_len = len(ete_tree.search_nodes())\n",
    "        distances = torch.zeros((sen_len, sen_len))\n",
    "\n",
    "        # Compute all the distances\n",
    "        for i in range(sen_len):\n",
    "            for j in range(sen_len):\n",
    "                if i == j:\n",
    "                    distances[i,j] = 0.0\n",
    "                    distances[j,i] = 0.0\n",
    "                else:\n",
    "                    distances[i,j] = ete_tree.get_distance(str(i+1), str(j+1))\n",
    "                    distances[j,i] = ete_tree.get_distance(str(i+1), str(j+1))\n",
    "\n",
    "        all_distances.append(distances)\n",
    "\n",
    "    return all_distances"
   ]
  },
  {
   "cell_type": "markdown",
   "metadata": {},
   "source": [
    "The next step is now to do the previous step the other way around. After all, we are mainly interested in predicting the node distances of a sentence, in order to recreate the corresponding parse tree.\n",
    "\n",
    "Hewitt et al. reconstruct a parse tree based on a _minimum spanning tree_ (MST, https://en.wikipedia.org/wiki/Minimum_spanning_tree). Fortunately for us, we can simply import a method from `scipy` that retrieves this MST."
   ]
  },
  {
   "cell_type": "code",
   "execution_count": 32,
   "metadata": {},
   "outputs": [],
   "source": [
    "from scipy.sparse.csgraph import minimum_spanning_tree\n",
    "import torch\n",
    "\n",
    "\n",
    "def create_mst(distances):\n",
    "    distances = torch.triu(distances).detach().numpy()\n",
    "    mst = minimum_spanning_tree(distances).toarray()\n",
    "    mst[mst>0] = 1.\n",
    "    \n",
    "    return mst"
   ]
  },
  {
   "cell_type": "markdown",
   "metadata": {},
   "source": [
    "Let's have a look at what this looks like, by looking at a relatively short sentence in the sample corpus.\n",
    "\n",
    "If your addition to the `create_gold_distances` method has been correct, you should be able to run the following snippet. This then shows you the original parse tree, the distances between the nodes, and the MST that is retrieved from these distances. Can you spot the edges in the MST matrix that correspond to the edges in the parse tree?"
   ]
  },
  {
   "cell_type": "code",
   "execution_count": 33,
   "metadata": {},
   "outputs": [
    {
     "name": "stdout",
     "output_type": "stream",
     "text": [
      "\n",
      "   /2 /-1\n",
      "  |\n",
      "  |--3\n",
      "  |\n",
      "  |--4\n",
      "  |\n",
      "  |   /-6\n",
      "  |  |\n",
      "-5|  |--7\n",
      "  |-8|\n",
      "  |  |   /-9\n",
      "  |  |  |\n",
      "  |   \\12--10\n",
      "  |     |\n",
      "  |      \\-11\n",
      "  |\n",
      "   \\-13 \n",
      "\n",
      "tensor([[0., 1., 3., 3., 2., 4., 4., 3., 5., 5., 5., 4., 3.],\n",
      "        [1., 0., 2., 2., 1., 3., 3., 2., 4., 4., 4., 3., 2.],\n",
      "        [3., 2., 0., 2., 1., 3., 3., 2., 4., 4., 4., 3., 2.],\n",
      "        [3., 2., 2., 0., 1., 3., 3., 2., 4., 4., 4., 3., 2.],\n",
      "        [2., 1., 1., 1., 0., 2., 2., 1., 3., 3., 3., 2., 1.],\n",
      "        [4., 3., 3., 3., 2., 0., 2., 1., 3., 3., 3., 2., 3.],\n",
      "        [4., 3., 3., 3., 2., 2., 0., 1., 3., 3., 3., 2., 3.],\n",
      "        [3., 2., 2., 2., 1., 1., 1., 0., 2., 2., 2., 1., 2.],\n",
      "        [5., 4., 4., 4., 3., 3., 3., 2., 0., 2., 2., 1., 4.],\n",
      "        [5., 4., 4., 4., 3., 3., 3., 2., 2., 0., 2., 1., 4.],\n",
      "        [5., 4., 4., 4., 3., 3., 3., 2., 2., 2., 0., 1., 4.],\n",
      "        [4., 3., 3., 3., 2., 2., 2., 1., 1., 1., 1., 0., 3.],\n",
      "        [3., 2., 2., 2., 1., 3., 3., 2., 4., 4., 4., 3., 0.]]) \n",
      "\n",
      "[[0. 1. 0. 0. 0. 0. 0. 0. 0. 0. 0. 0. 0.]\n",
      " [0. 0. 0. 0. 1. 0. 0. 0. 0. 0. 0. 0. 0.]\n",
      " [0. 0. 0. 0. 1. 0. 0. 0. 0. 0. 0. 0. 0.]\n",
      " [0. 0. 0. 0. 1. 0. 0. 0. 0. 0. 0. 0. 0.]\n",
      " [0. 0. 0. 0. 0. 0. 0. 1. 0. 0. 0. 0. 1.]\n",
      " [0. 0. 0. 0. 0. 0. 0. 1. 0. 0. 0. 0. 0.]\n",
      " [0. 0. 0. 0. 0. 0. 0. 1. 0. 0. 0. 0. 0.]\n",
      " [0. 0. 0. 0. 0. 0. 0. 0. 0. 0. 0. 1. 0.]\n",
      " [0. 0. 0. 0. 0. 0. 0. 0. 0. 0. 0. 1. 0.]\n",
      " [0. 0. 0. 0. 0. 0. 0. 0. 0. 0. 0. 1. 0.]\n",
      " [0. 0. 0. 0. 0. 0. 0. 0. 0. 0. 0. 1. 0.]\n",
      " [0. 0. 0. 0. 0. 0. 0. 0. 0. 0. 0. 0. 0.]\n",
      " [0. 0. 0. 0. 0. 0. 0. 0. 0. 0. 0. 0. 0.]]\n"
     ]
    }
   ],
   "source": [
    "item = corpus[5]\n",
    "tokentree = item.to_tree()\n",
    "ete3_tree = tokentree_to_ete(tokentree)\n",
    "print(ete3_tree, '\\n')\n",
    "\n",
    "gold_distance = create_gold_distances(corpus[5:6])[0]\n",
    "print(gold_distance, '\\n')\n",
    "\n",
    "mst = create_mst(gold_distance)\n",
    "print(mst)"
   ]
  },
  {
   "cell_type": "code",
   "execution_count": 34,
   "metadata": {},
   "outputs": [
    {
     "name": "stdout",
     "output_type": "stream",
     "text": [
      "tensor([[0., 1., 3., 3., 2., 4., 4., 3., 5., 5., 5., 4., 3.],\n",
      "        [1., 0., 2., 2., 1., 3., 3., 2., 4., 4., 4., 3., 2.],\n",
      "        [3., 2., 0., 2., 1., 3., 3., 2., 4., 4., 4., 3., 2.],\n",
      "        [3., 2., 2., 0., 1., 3., 3., 2., 4., 4., 4., 3., 2.],\n",
      "        [2., 1., 1., 1., 0., 2., 2., 1., 3., 3., 3., 2., 1.],\n",
      "        [4., 3., 3., 3., 2., 0., 2., 1., 3., 3., 3., 2., 3.],\n",
      "        [4., 3., 3., 3., 2., 2., 0., 1., 3., 3., 3., 2., 3.],\n",
      "        [3., 2., 2., 2., 1., 1., 1., 0., 2., 2., 2., 1., 2.],\n",
      "        [5., 4., 4., 4., 3., 3., 3., 2., 0., 2., 2., 1., 4.],\n",
      "        [5., 4., 4., 4., 3., 3., 3., 2., 2., 0., 2., 1., 4.],\n",
      "        [5., 4., 4., 4., 3., 3., 3., 2., 2., 2., 0., 1., 4.],\n",
      "        [4., 3., 3., 3., 2., 2., 2., 1., 1., 1., 1., 0., 3.],\n",
      "        [3., 2., 2., 2., 1., 3., 3., 2., 4., 4., 4., 3., 0.]]) \n",
      "\n"
     ]
    }
   ],
   "source": [
    "print(gold_distance, '\\n')"
   ]
  },
  {
   "cell_type": "markdown",
   "metadata": {},
   "source": [
    "Now that we are able to map edge distances back to parse trees, we can create code for our quantitative evaluation. For this we will use the Undirected Unlabeled Attachment Score (UUAS), which is expressed as:\n",
    "\n",
    "$$\\frac{\\text{number of predicted edges that are an edge in the gold parse tree}}{\\text{number of edges in the gold parse tree}}$$\n",
    "\n",
    "To do this, we will need to obtain all the edges from our MST matrix. Note that, since we are using undirected trees, that an edge can be expressed in 2 ways: an edge between node $i$ and node $j$ is denoted by both `mst[i,j] = 1`, or `mst[j,i] = 1`.\n",
    "\n",
    "You will write code that computes the UUAS score for a matrix of predicted distances, and the corresponding gold distances. I recommend you to split this up into 2 methods: 1 that retrieves the edges that are present in an MST matrix, and one general method that computes the UUAS score."
   ]
  },
  {
   "cell_type": "code",
   "execution_count": 35,
   "metadata": {},
   "outputs": [],
   "source": [
    "def edges(mst):\n",
    "    # Your code for retrieving the edges from the MST matrix\n",
    "    edges = set()\n",
    "    for i, node1 in enumerate(mst):\n",
    "        for j, node2 in enumerate(node1):\n",
    "            if node2 == 1:\n",
    "                edges.add((i,j))\n",
    "                edges.add((j,i))\n",
    "\n",
    "    return edges\n",
    "\n",
    "def calc_uuas(pred_distances, gold_distances):\n",
    "    uuas = None\n",
    "    # Find the indices of non-padded rows and columns\n",
    "    non_padded_rows = torch.any(gold_distances != -1, dim=1)\n",
    "    non_padded_cols = torch.any(gold_distances != -1, dim=0)\n",
    "\n",
    "    # Slice both tensors using the non-padded indices\n",
    "    pred_distances = pred_distances[non_padded_rows][:, non_padded_cols]\n",
    "    gold_distances = gold_distances[non_padded_rows][:, non_padded_cols]\n",
    "    \n",
    "    pred_mst = create_mst(pred_distances)\n",
    "    gold_mst = create_mst(gold_distances)\n",
    "    pred_edges = edges(pred_mst)\n",
    "    gold_edges = edges(gold_mst)\n",
    "    correct = pred_edges.intersection(gold_edges)\n",
    "    if len(gold_edges) == 0:\n",
    "        uuas = 1\n",
    "    else:\n",
    "        uuas = len(correct) / len(gold_edges)\n",
    "    return uuas\n"
   ]
  },
  {
   "cell_type": "markdown",
   "metadata": {},
   "source": [
    "# Structural Probes\n",
    "\n",
    "We now have everything in place to start doing the actual exciting stuff: training our structural probe!\n",
    "    \n",
    "To make life easier for you, we will simply take the `torch` code for this probe from John Hewitt's repository. This allows you to focus on the training regime from now on."
   ]
  },
  {
   "cell_type": "code",
   "execution_count": 36,
   "metadata": {},
   "outputs": [],
   "source": [
    "import torch.nn as nn\n",
    "import torch\n",
    "\n",
    "\n",
    "class StructuralProbe(nn.Module):\n",
    "    \"\"\" Computes squared L2 distance after projection by a matrix.\n",
    "    For a batch of sentences, computes all n^2 pairs of distances\n",
    "    for each sentence in the batch.\n",
    "    \"\"\"\n",
    "    def __init__(self, model_dim, rank, device=\"cpu\"):\n",
    "        super().__init__()\n",
    "        self.probe_rank = rank\n",
    "        self.model_dim = model_dim\n",
    "        \n",
    "        self.proj = nn.Parameter(data = torch.zeros(self.model_dim, self.probe_rank))\n",
    "        self.proj_norms = nn.Parameter(data=torch.zeros(self.model_dim, self.probe_rank))\n",
    "        \n",
    "        nn.init.uniform_(self.proj, -0.05, 0.05)\n",
    "        nn.init.uniform_(self.proj_norms, -0.05, 0.05)\n",
    "        self.to(device)\n",
    "\n",
    "    def forward(self, batch):\n",
    "        \"\"\" Computes all n^2 pairs of distances after projection\n",
    "        for each sentence in a batch.\n",
    "        Note that due to padding, some distances will be non-zero for pads.\n",
    "        Computes (B(h_i-h_j))^T(B(h_i-h_j)) for all i,j\n",
    "        Args:\n",
    "          batch: a batch of word representations of the shape\n",
    "            (batch_size, max_seq_len, representation_dim)\n",
    "        Returns:\n",
    "          A tensor of distances of shape (batch_size, max_seq_len, max_seq_len)\n",
    "        \"\"\"\n",
    "        transformed = torch.matmul(batch, self.proj)\n",
    "        transformed_norms = torch.matmul(batch, self.proj_norms)\n",
    "        \n",
    "        batchlen, seqlen, rank = transformed.size()\n",
    "        \n",
    "        transformed = transformed.unsqueeze(2)\n",
    "        transformed = transformed.expand(-1, -1, seqlen, -1)\n",
    "        transposed = transformed.transpose(1,2)\n",
    "        \n",
    "        diffs = transformed - transposed\n",
    "        \n",
    "        squared_diffs = diffs.pow(2)\n",
    "        squared_distances = torch.sum(squared_diffs, -1)\n",
    "        \n",
    "        squared_norms = transformed_norms.pow(2).sum(-1)\n",
    "\n",
    "        return squared_distances, squared_norms\n",
    "\n",
    "    \n",
    "    \n",
    "class L1DistanceLoss(nn.Module):\n",
    "    \"\"\"Custom L1 loss for distance matrices.\"\"\"\n",
    "    def __init__(self):\n",
    "        super().__init__()\n",
    "\n",
    "    def forward(self, predictions, label_batch, length_batch):\n",
    "        \"\"\" Computes L1 loss on distance matrices.\n",
    "        Ignores all entries where label_batch=-1\n",
    "        Normalizes first within sentences (by dividing by the square of the sentence length)\n",
    "        and then across the batch.\n",
    "        Args:\n",
    "          predictions: A pytorch batch of predicted distances\n",
    "          label_batch: A pytorch batch of true distances\n",
    "          length_batch: A pytorch batch of sentence lengths\n",
    "        Returns:\n",
    "          A tuple of:\n",
    "            batch_loss: average loss in the batch\n",
    "            total_sents: number of sentences in the batch\n",
    "        \"\"\"\n",
    "        labels_1s = (label_batch != -1).float()\n",
    "        predictions_masked = predictions * labels_1s\n",
    "        labels_masked = label_batch * labels_1s\n",
    "        total_sents = torch.sum((length_batch != 0)).float()\n",
    "        squared_lengths = length_batch.pow(2).float()\n",
    "\n",
    "        if total_sents > 0:\n",
    "            loss_per_sent = torch.sum(torch.abs(predictions_masked - labels_masked), dim=(1,2))\n",
    "            normalized_loss_per_sent = loss_per_sent / squared_lengths\n",
    "            batch_loss = torch.sum(normalized_loss_per_sent) / total_sents\n",
    "        \n",
    "        else:\n",
    "            batch_loss = torch.tensor(0.0)\n",
    "        \n",
    "        return batch_loss, total_sents\n"
   ]
  },
  {
   "cell_type": "markdown",
   "metadata": {},
   "source": [
    "I have provided a rough outline for the training regime that you can use. Note that the hyper parameters that I provide here only serve as an indication, but should be (briefly) explored by yourself.\n",
    "\n",
    "As can be seen in Hewitt's code above, there exists functionality in the probe to deal with batched input. It is up to you to use that: a (less efficient) method can still incorporate batches by doing multiple forward passes for a batch and computing the backward pass only once for the summed losses of all these forward passes. (_I know, this is not the way to go, but in the interest of time that is allowed ;-), the purpose of the assignment is writing a good paper after all_)."
   ]
  },
  {
   "cell_type": "code",
   "execution_count": 55,
   "metadata": {},
   "outputs": [],
   "source": [
    "from torch import optim\n",
    "import math\n",
    "\n",
    "'''\n",
    "Similar to the `create_data` method of the previous notebook, I recommend you to use a method \n",
    "that initialises all the data of a corpus. Note that for your embeddings you can use the \n",
    "`fetch_sen_reps` method again. However, for the POS probe you concatenated all these representations into \n",
    "1 big tensor of shape (num_tokens_in_corpus, model_dim). \n",
    "\n",
    "The StructuralProbe expects its input to contain all the representations of 1 sentence, so I recommend you\n",
    "to update your `fetch_sen_reps` method in a way that it is easy to retrieve all the representations that \n",
    "correspond to a single sentence.\n",
    "''' \n",
    "\n",
    "def init_corpus(path, concat=False, cutoff=None):\n",
    "    \"\"\" Initialises the data of a corpus.\n",
    "    \n",
    "    Parameters\n",
    "    ----------\n",
    "    path : str\n",
    "        Path to corpus location\n",
    "    concat : bool, optional\n",
    "        Optional toggle to concatenate all the tensors\n",
    "        returned by `fetch_sen_reps`.\n",
    "    cutoff : int, optional\n",
    "        Optional integer to \"cutoff\" the data in the corpus.\n",
    "        This allows only a subset to be used, alleviating \n",
    "        memory usage.\n",
    "    \"\"\"\n",
    "    corpus = parse_corpus(path)[:cutoff]\n",
    "    embs = fetch_sen_reps(corpus, lstm, vocab, concat=concat)\n",
    "#     embs = fetch_sen_reps(corpus, model, tokenizer, concat=concat)    \n",
    "    gold_distances = create_gold_distances(corpus)\n",
    "    \n",
    "    return gold_distances, embs\n",
    "\n",
    "\n",
    "# I recommend you to write a method that can evaluate the UUAS & loss score for the dev (& test) corpus.\n",
    "# Feel free to alter the signature of this method.\n",
    "def evaluate_probe(probe, _data):\n",
    "    loss_function =  L1DistanceLoss()\n",
    "    probe.eval()\n",
    "    \n",
    "    with torch.no_grad():\n",
    "        distances = _data[0]\n",
    "        embs = _data[1]\n",
    "        \n",
    "        # Make big tensor of shape (batch_size, max_seq_len, representation_dim)\n",
    "        # from the representations in the batch using zero-padding\n",
    "        max_seq_len = max([tensor.shape[0] for tensor in embs])\n",
    "        batch_size = len(embs)\n",
    "        representation_dim = embs[0].shape[1]\n",
    "        embs_tensor = torch.zeros(batch_size, max_seq_len, representation_dim)\n",
    "        for i, tensor in enumerate(embs):\n",
    "            if tensor.shape[0] == 1:\n",
    "                tensor = tensor.view(1, -1, representation_dim)[:, 0, :]\n",
    "            seq_len = tensor.shape[0]\n",
    "            embs_tensor[i, :seq_len] = tensor\n",
    "\n",
    "        # Predict distances and norms using probe\n",
    "        predicted_distances, predicted_norms = probe(embs_tensor)\n",
    "\n",
    "        # Make big tensor of distances from batch padded with -1\n",
    "        # resulting in true_distances of shape (batch_size, max_seq_len, max_seq_len)\n",
    "        max_seq_len = max([tensor.shape[0] for tensor in distances])\n",
    "        batch_size = len(distances)\n",
    "        sentence_lengths = torch.zeros(batch_size, dtype=torch.long)\n",
    "        true_distances = torch.full((batch_size, max_seq_len, max_seq_len), -1)\n",
    "        for i, tensor in enumerate(distances):\n",
    "            seq_len = tensor.shape[0]\n",
    "            true_distances[i, :seq_len, :seq_len] = tensor\n",
    "            sentence_lengths[i] = seq_len\n",
    "\n",
    "        # Calculate loss and uass score\n",
    "        loss, total_sents = loss_function(predicted_distances, true_distances, sentence_lengths)\n",
    "        uuas_score = [calc_uuas(pred, true) for pred, true in zip(predicted_distances, true_distances)]\n",
    "    \n",
    "    return loss.item(), uuas_score\n",
    "\n",
    "\n",
    "# Feel free to alter the signature of this method.\n",
    "def train(_train_data, _dev_data, _test_data, epochs=1000):\n",
    "    emb_dim = _train_data[1][0].shape[-1]\n",
    "    rank = 64\n",
    "    lr = 10e-4\n",
    "    batch_size = 24\n",
    "    dev_losses = []\n",
    "    dev_uuases = []\n",
    "\n",
    "    probe = StructuralProbe(emb_dim, rank)\n",
    "    optimizer = optim.Adam(probe.parameters(), lr=lr)\n",
    "    scheduler = optim.lr_scheduler.ReduceLROnPlateau(optimizer, mode='min', factor=0.5,patience=1)\n",
    "    loss_function =  L1DistanceLoss()\n",
    "\n",
    "    for epoch in range(epochs):\n",
    "        print(\"Epoch:\", epoch)\n",
    "        for i in range(0, len(_train_data[1]), batch_size):\n",
    "            optimizer.zero_grad()\n",
    "\n",
    "            # YOUR CODE FOR DOING A PROBE FORWARD PASS\n",
    "            batch_embs = _train_data[1][i:i+batch_size]\n",
    "            batch_distances = _train_data[0][i:i+batch_size]\n",
    "            \n",
    "            \n",
    "            # Make big tensor of shape (batch_size, max_seq_len, representation_dim)\n",
    "            # from the representations in the batch using zero-padding\n",
    "            max_seq_len = max([tensor.shape[0] for tensor in batch_embs])\n",
    "            embs_tensor = torch.zeros(len(batch_embs), max_seq_len, emb_dim)\n",
    "            for j, tensor in enumerate(batch_embs):\n",
    "                if tensor.shape[0] == 1:\n",
    "                    tensor = tensor.view(1, -1, emb_dim)[:, 0, :]\n",
    "                seq_len = tensor.shape[0]\n",
    "                embs_tensor[j, :seq_len] = tensor\n",
    "    \n",
    "            # Predict distances and using probe\n",
    "            predicted_distances, predicted_norms = probe(embs_tensor)\n",
    "            \n",
    "            # Make big tensor of shape (batch_size, max_seq_len, max_seq_len) from distances\n",
    "            # in the batch using padding with -1\n",
    "            max_seq_len = max([tensor.shape[0] for tensor in batch_distances])\n",
    "            sentence_lengths = torch.zeros(len(batch_embs), dtype=torch.long)\n",
    "            true_distances = torch.full((len(batch_embs), max_seq_len, max_seq_len), -1)\n",
    "            for j, tensor in enumerate(batch_distances):\n",
    "                seq_len = tensor.shape[0]\n",
    "                true_distances[j, :seq_len, :seq_len] = tensor\n",
    "                sentence_lengths[j] = seq_len\n",
    "            \n",
    "            # Calculate loss\n",
    "            batch_loss, total_sents = loss_function(predicted_distances, true_distances, sentence_lengths)\n",
    "\n",
    "            batch_loss.backward()\n",
    "            optimizer.step()\n",
    "\n",
    "        dev_loss, dev_uuas = evaluate_probe(probe, _dev_data)\n",
    "        dev_losses.append(dev_loss)\n",
    "        dev_uuases.append(sum(dev_uuas)/len(dev_uuas))\n",
    "        \n",
    "\n",
    "        # Using a scheduler is up to you, and might require some hyper param fine-tuning\n",
    "        scheduler.step(dev_loss)\n",
    "\n",
    "    test_loss, test_uuas = evaluate_probe(probe, _test_data)\n",
    "    return dev_losses, dev_uuases, test_loss, sum(test_uuas)/len(test_uuas)"
   ]
  },
  {
   "cell_type": "code",
   "execution_count": 54,
   "metadata": {},
   "outputs": [
    {
     "data": {
      "text/plain": [
       "torch.Size([29, 768])"
      ]
     },
     "execution_count": 54,
     "metadata": {},
     "output_type": "execute_result"
    }
   ],
   "source": [
    "train_data[1][0].shape"
   ]
  },
  {
   "cell_type": "markdown",
   "metadata": {},
   "source": [
    "# Get data"
   ]
  },
  {
   "cell_type": "markdown",
   "metadata": {},
   "source": [
    "### Sample data, useful for debugging"
   ]
  },
  {
   "cell_type": "code",
   "execution_count": 38,
   "metadata": {},
   "outputs": [],
   "source": [
    "# train_sample = init_corpus('data/sample/en_ewt-ud-train.conllu', concat=False, cutoff=None)\n",
    "# dev_sample = init_corpus('data/sample/en_ewt-ud-dev.conllu', concat=False, cutoff=None)\n",
    "# test_sample = init_corpus('data/sample/en_ewt-ud-test.conllu', concat=False, cutoff=None)"
   ]
  },
  {
   "cell_type": "markdown",
   "metadata": {},
   "source": [
    "### Load full dataset for first, takes some time so I put it in a pickle"
   ]
  },
  {
   "cell_type": "code",
   "execution_count": 39,
   "metadata": {
    "scrolled": true
   },
   "outputs": [],
   "source": [
    "# # Initialize the corpus\n",
    "# train_data = init_corpus('data/en_ewt-ud-train.conllu', concat=False, cutoff=None)\n",
    "# dev_data = init_corpus('data/en_ewt-ud-dev.conllu', concat=False, cutoff=None)\n",
    "# test_data = init_corpus('data/en_ewt-ud-test.conllu', concat=False, cutoff=None)"
   ]
  },
  {
   "cell_type": "markdown",
   "metadata": {},
   "source": [
    "### Dump data in pickle"
   ]
  },
  {
   "cell_type": "code",
   "execution_count": 40,
   "metadata": {},
   "outputs": [],
   "source": [
    "# with open('struct_train.pickle', 'wb') as handle:\n",
    "#     pickle.dump(train_data, handle, protocol=pickle.HIGHEST_PROTOCOL)\n",
    "# with open('struct_dev.pickle', 'wb') as handle:\n",
    "#     pickle.dump(dev_data, handle, protocol=pickle.HIGHEST_PROTOCOL)\n",
    "# with open('struct_test.pickle', 'wb') as handle:\n",
    "#     pickle.dump(test_data, handle, protocol=pickle.HIGHEST_PROTOCOL)"
   ]
  },
  {
   "cell_type": "markdown",
   "metadata": {},
   "source": [
    "### Load data from pickle"
   ]
  },
  {
   "cell_type": "code",
   "execution_count": 64,
   "metadata": {},
   "outputs": [],
   "source": [
    "model_name = \"GPT\"\n",
    "\n",
    "with open('pickles/' + model_name + '/struct_train.pickle', 'rb') as handle:\n",
    "    GPT_train_data = pickle.load(handle)\n",
    "with open('pickles/' + model_name + '/struct_dev.pickle', 'rb') as handle:\n",
    "    GPT_dev_data = pickle.load(handle)\n",
    "with open('pickles/' + model_name + '/struct_test.pickle', 'rb') as handle:\n",
    "    GPT_test_data = pickle.load(handle)"
   ]
  },
  {
   "cell_type": "code",
   "execution_count": 63,
   "metadata": {},
   "outputs": [],
   "source": [
    "model_name = \"lstm\"\n",
    "\n",
    "with open('pickles/' + model_name + '/struct_train.pickle', 'rb') as handle:\n",
    "    lstm_train_data = pickle.load(handle)\n",
    "with open('pickles/' + model_name + '/struct_dev.pickle', 'rb') as handle:\n",
    "    lstm_dev_data = pickle.load(handle)\n",
    "with open('pickles/' + model_name + '/struct_test.pickle', 'rb') as handle:\n",
    "    lstm_test_data = pickle.load(handle)"
   ]
  },
  {
   "cell_type": "code",
   "execution_count": 62,
   "metadata": {},
   "outputs": [
    {
     "name": "stdout",
     "output_type": "stream",
     "text": [
      "12543\n",
      "2002\n",
      "12543\n"
     ]
    }
   ],
   "source": [
    "print(len(train_data[0]))\n",
    "print(len(dev_data[0]))\n",
    "print(len(train_data[0]))"
   ]
  },
  {
   "cell_type": "markdown",
   "metadata": {},
   "source": [
    "# Train probe"
   ]
  },
  {
   "cell_type": "code",
   "execution_count": 66,
   "metadata": {
    "scrolled": true
   },
   "outputs": [
    {
     "name": "stdout",
     "output_type": "stream",
     "text": [
      "Epoch: 0\n",
      "Epoch: 1\n",
      "Epoch: 2\n",
      "Epoch: 3\n",
      "Epoch: 4\n",
      "Epoch: 5\n",
      "Epoch: 6\n",
      "Epoch: 7\n",
      "Epoch: 8\n",
      "Epoch: 9\n",
      "Epoch: 10\n",
      "Epoch: 11\n",
      "Epoch: 12\n",
      "Epoch: 13\n",
      "Epoch: 14\n",
      "Epoch: 15\n",
      "Epoch: 16\n",
      "Epoch: 17\n",
      "Epoch: 18\n",
      "Epoch: 19\n",
      "Dev Loss: 0.5623544454574585\n",
      "Dev UUAS: 0.7101768647618304\n",
      "Test Loss: 0.5372543931007385\n",
      "Test UUAS: 0.710434928316378\n"
     ]
    }
   ],
   "source": [
    "# Train the probe on GPT embeddings\n",
    "epochs = 20\n",
    "\n",
    "GPT_dev_loss, GPT_dev_uuas, GPT_test_loss, GPT_test_uuas = train(GPT_train_data, GPT_dev_data, GPT_test_data, epochs)\n",
    "\n",
    "# Print the evaluation results\n",
    "print(\"Dev Loss:\", GPT_dev_loss[-1])\n",
    "print(\"Dev UUAS:\", GPT_dev_uuas[-1])\n",
    "print(\"Test Loss:\", GPT_test_loss)\n",
    "print(\"Test UUAS:\", GPT_test_uuas)"
   ]
  },
  {
   "cell_type": "code",
   "execution_count": 65,
   "metadata": {
    "scrolled": true
   },
   "outputs": [
    {
     "name": "stdout",
     "output_type": "stream",
     "text": [
      "Epoch: 0\n",
      "Epoch: 1\n",
      "Epoch: 2\n",
      "Epoch: 3\n",
      "Epoch: 4\n",
      "Epoch: 5\n",
      "Epoch: 6\n",
      "Epoch: 7\n",
      "Epoch: 8\n",
      "Epoch: 9\n",
      "Epoch: 10\n",
      "Epoch: 11\n",
      "Epoch: 12\n",
      "Epoch: 13\n",
      "Epoch: 14\n",
      "Epoch: 15\n",
      "Epoch: 16\n",
      "Epoch: 17\n",
      "Epoch: 18\n",
      "Epoch: 19\n",
      "Dev Loss: [0.6089103817939758, 0.5899264216423035, 0.5832124352455139, 0.5802391171455383, 0.577919065952301, 0.5829252600669861, 0.5774744749069214, 0.5854688286781311, 0.5757995247840881, 0.5800225734710693, 0.578416109085083, 0.5674566030502319, 0.5681109428405762, 0.5676247477531433, 0.5635954141616821, 0.5639556646347046, 0.5634506940841675, 0.5627674460411072, 0.5632572770118713, 0.5628527402877808]\n",
      "Dev UUAS: [0.6538068641647297, 0.6694839813347796, 0.673228900321775, 0.6793523360863106, 0.6758609418473683, 0.6840561635973518, 0.6821650450331875, 0.6857021653578126, 0.6827664252430699, 0.6849506781880439, 0.685106106569451, 0.6908441469108693, 0.6928054227020962, 0.6923875401545398, 0.6941099248316215, 0.6947618538491571, 0.6961907925895316, 0.6955746151152054, 0.6961066669148384, 0.6966727326951299]\n",
      "Test Loss: 0.5454326868057251\n"
     ]
    },
    {
     "ename": "NameError",
     "evalue": "name 'GPT_test_uuas' is not defined",
     "output_type": "error",
     "traceback": [
      "\u001b[0;31m---------------------------------------------------------------------------\u001b[0m",
      "\u001b[0;31mNameError\u001b[0m                                 Traceback (most recent call last)",
      "Cell \u001b[0;32mIn[65], line 10\u001b[0m\n\u001b[1;32m      8\u001b[0m \u001b[38;5;28mprint\u001b[39m(\u001b[38;5;124m\"\u001b[39m\u001b[38;5;124mDev UUAS:\u001b[39m\u001b[38;5;124m\"\u001b[39m, lstm_dev_uuas)\n\u001b[1;32m      9\u001b[0m \u001b[38;5;28mprint\u001b[39m(\u001b[38;5;124m\"\u001b[39m\u001b[38;5;124mTest Loss:\u001b[39m\u001b[38;5;124m\"\u001b[39m, lstm_test_loss)\n\u001b[0;32m---> 10\u001b[0m \u001b[38;5;28mprint\u001b[39m(\u001b[38;5;124m\"\u001b[39m\u001b[38;5;124mTest UUAS:\u001b[39m\u001b[38;5;124m\"\u001b[39m, \u001b[43mGPT_test_uuas\u001b[49m)\n",
      "\u001b[0;31mNameError\u001b[0m: name 'GPT_test_uuas' is not defined"
     ]
    }
   ],
   "source": [
    "# Train the probe on LSTM embeddings\n",
    "epochs = 20\n",
    "\n",
    "lstm_dev_loss, lstm_dev_uuas, lstm_test_loss, lstm_test_uuas = train(lstm_train_data, lstm_dev_data, lstm_test_data, epochs)\n",
    "\n",
    "# Print the evaluation results\n",
    "print(\"Dev Loss:\", lstm_dev_loss[-1])\n",
    "print(\"Dev UUAS:\", lstm_dev_uuas[-1])\n",
    "print(\"Test Loss:\", lstm_test_loss)\n",
    "print(\"Test UUAS:\", lstmtest_uuas)"
   ]
  },
  {
   "cell_type": "markdown",
   "metadata": {},
   "source": [
    "# Plot results"
   ]
  },
  {
   "cell_type": "code",
   "execution_count": 70,
   "metadata": {},
   "outputs": [
    {
     "name": "stdout",
     "output_type": "stream",
     "text": [
      "LSTM test Loss: 0.5454326868057251\n",
      "LSTM test UUAS: 0.7003746335127099\n",
      "GPT test Loss: 0.5372543931007385\n",
      "GPT test UUAS: 0.710434928316378\n"
     ]
    },
    {
     "data": {
      "image/png": "[encoded data removed]",
      "text/plain": [
       "<Figure size 640x480 with 1 Axes>"
      ]
     },
     "metadata": {},
     "output_type": "display_data"
    },
    {
     "data": {
      "image/png": "[encoded data removed]",
      "text/plain": [
       "<Figure size 640x480 with 1 Axes>"
      ]
     },
     "metadata": {},
     "output_type": "display_data"
    }
   ],
   "source": [
    "import matplotlib.pyplot as plt\n",
    "\n",
    "print(\"LSTM test Loss:\", lstm_test_loss)\n",
    "print(\"LSTM test UUAS:\", lstm_test_uuas)\n",
    "print(\"GPT test Loss:\", GPT_test_loss)\n",
    "print(\"GPT test UUAS:\", GPT_test_uuas)\n",
    "\n",
    "plt.plot([i for i in range(epochs)], lstm_dev_loss, label='LSTM')\n",
    "plt.plot([i for i in range(epochs)], GPT_dev_loss, label='GPT')\n",
    "plt.xlabel(\"Epochs\")\n",
    "plt.ylabel(\"Loss\")\n",
    "plt.title(\"Loss per Epoch\")\n",
    "plt.legend()\n",
    "plt.show()\n",
    "\n",
    "plt.plot([i for i in range(epochs)], lstm_dev_uuas, label='LSTM')\n",
    "plt.plot([i for i in range(epochs)], GPT_dev_uuas, label='GPT')\n",
    "plt.xlabel(\"Epochs\")\n",
    "plt.ylabel(\"UUAS score\")\n",
    "plt.title(\"UUAS per epoch\")\n",
    "plt.legend()\n",
    "plt.show()"
   ]
  },
  {
   "cell_type": "markdown",
   "metadata": {},
   "source": [
    "## LaTeX trees"
   ]
  },
  {
   "cell_type": "markdown",
   "metadata": {},
   "source": [
    "For your report you might want to add some of those fancy dependency tree plots like those of Figure 2 in the Structural Probing paper. For that you can use the following code, that outputs the corresponding LaTeX markup.\n",
    "\n",
    "**N.B.**: for the latex tikz tree the first token in a sentence has index 1 (instead of 0), so take that into account with the predicted and gold edges that you pass to the method."
   ]
  },
  {
   "cell_type": "code",
   "execution_count": null,
   "metadata": {},
   "outputs": [],
   "source": [
    "def print_tikz(predicted_edges, gold_edges, words):\n",
    "    \"\"\" Turns edge sets on word (nodes) into tikz dependency LaTeX.\n",
    "    Parameters\n",
    "    ----------\n",
    "    predicted_edges : Set[Tuple[int, int]]\n",
    "        Set (or list) of edge tuples, as predicted by your probe.\n",
    "    gold_edges : Set[Tuple[int, int]]\n",
    "        Set (or list) of gold edge tuples, as obtained from the treebank.\n",
    "    words : List[str]\n",
    "        List of strings representing the tokens in the sentence.\n",
    "    \"\"\"\n",
    "\n",
    "    string = \"\"\"\\\\begin{dependency}[hide label, edge unit distance=.5ex]\n",
    "    \\\\begin{deptext}[column sep=0.05cm]\n",
    "    \"\"\"\n",
    "\n",
    "    string += (\n",
    "        \"\\\\& \".join([x.replace(\"$\", \"\\$\").replace(\"&\", \"+\") for x in words])\n",
    "        + \" \\\\\\\\\\n\"\n",
    "    )\n",
    "    string += \"\\\\end{deptext}\" + \"\\n\"\n",
    "    for i_index, j_index in gold_edges:\n",
    "        string += \"\\\\depedge[-]{{{}}}{{{}}}{{{}}}\\n\".format(i_index, j_index, \".\")\n",
    "    for i_index, j_index in predicted_edges:\n",
    "        string += f\"\\\\depedge[-,edge style={{red!60!}}, edge below]{{{i_index}}}{{{j_index}}}{{.}}\\n\"\n",
    "    string += \"\\\\end{dependency}\\n\"\n",
    "    print(string)"
   ]
  },
  {
   "cell_type": "code",
   "execution_count": null,
   "metadata": {},
   "outputs": [],
   "source": []
  },
  {
   "cell_type": "code",
   "execution_count": null,
   "metadata": {},
   "outputs": [],
   "source": []
  },
  {
   "cell_type": "code",
   "execution_count": null,
   "metadata": {},
   "outputs": [],
   "source": []
  }
 ],
 "metadata": {
  "kernelspec": {
   "display_name": "Python 3 (ipykernel)",
   "language": "python",
   "name": "python3"
  },
  "language_info": {
   "codemirror_mode": {
    "name": "ipython",
    "version": 3
   },
   "file_extension": ".py",
   "mimetype": "text/x-python",
   "name": "python",
   "nbconvert_exporter": "python",
   "pygments_lexer": "ipython3",
   "version": "3.11.2"
  },
  "toc": {
   "base_numbering": 1,
   "nav_menu": {},
   "number_sections": true,
   "sideBar": true,
   "skip_h1_title": false,
   "title_cell": "Table of Contents",
   "title_sidebar": "Contents",
   "toc_cell": false,
   "toc_position": {},
   "toc_section_display": true,
   "toc_window_display": false
  }
 },
 "nbformat": 4,
 "nbformat_minor": 4
}
